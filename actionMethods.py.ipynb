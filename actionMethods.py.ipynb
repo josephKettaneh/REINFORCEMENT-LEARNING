{
 "cells": [
  {
   "cell_type": "code",
   "execution_count": 2,
   "id": "fe285e48",
   "metadata": {},
   "outputs": [],
   "source": [
    "import numpy as np\n",
    "\n",
    "def action_method(eps, Q, N,R, k_times, n_arms ,action):\n",
    "    if(action == \"optimistic\" or action == \"epsilon_greedy\" ):\n",
    "        if(action == \"optimistic\"):\n",
    "            eps = 0\n",
    "        \n",
    "        for i in range(k_times):\n",
    "\n",
    "            prob = np.random.rand()\n",
    "\n",
    "            if prob < (1 - eps):\n",
    "                a = np.argmax(Q)\n",
    "                N[a]+=1\n",
    "                Q[a]+=(1/N[a])*(R[i,a]-Q[a])\n",
    "            else:\n",
    "\n",
    "                a = np.random.randint(n_arms)\n",
    "                N[a]+=1\n",
    "                Q[a]+=(1/N[a])*(R[i,a]-Q[a])\n",
    "                \n",
    "    else:\n",
    "        for i in range(k_times) :\n",
    "            a = np.argmax(Q +C*np.sqrt(np.log(k_times)/N))\n",
    "            A = R[i,a]\n",
    "            N[a]+=1\n",
    "            Q[a]+= 1/N[a]*(A-Q[a])\n",
    "        \n",
    "    return Q, N"
   ]
  },
  {
   "cell_type": "code",
   "execution_count": null,
   "id": "3b1c65a5",
   "metadata": {},
   "outputs": [],
   "source": []
  }
 ],
 "metadata": {
  "kernelspec": {
   "display_name": "Python 3",
   "language": "python",
   "name": "python3"
  },
  "language_info": {
   "codemirror_mode": {
    "name": "ipython",
    "version": 3
   },
   "file_extension": ".py",
   "mimetype": "text/x-python",
   "name": "python",
   "nbconvert_exporter": "python",
   "pygments_lexer": "ipython3",
   "version": "3.8.8"
  }
 },
 "nbformat": 4,
 "nbformat_minor": 5
}
