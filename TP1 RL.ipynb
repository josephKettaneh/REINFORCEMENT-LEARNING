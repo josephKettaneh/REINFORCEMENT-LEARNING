{
 "cells": [
  {
   "cell_type": "markdown",
   "id": "d196ac8e",
   "metadata": {
    "pycharm": {
     "name": "#%% md\n"
    }
   },
   "source": []
  },
  {
   "cell_type": "code",
   "execution_count": 1,
   "id": "a3ef97d7",
   "metadata": {
    "pycharm": {
     "name": "#%%\n"
    }
   },
   "outputs": [],
   "source": [
    "from numpy import load\n",
    "import numpy as np\n"
   ]
  },
  {
   "cell_type": "code",
   "execution_count": 2,
   "id": "63efb4a1",
   "metadata": {
    "pycharm": {
     "name": "#%%\n"
    }
   },
   "outputs": [],
   "source": [
    "data4 = load('bandits4_20.npz')\n",
    "data10 = load('bandits10_500.npz')\n",
    "data100 = load('bandits100_5000.npz')"
   ]
  },
  {
   "cell_type": "code",
   "execution_count": 3,
   "id": "bdbc7dcc",
   "metadata": {
    "pycharm": {
     "name": "#%%\n"
    }
   },
   "outputs": [
    {
     "ename": "NameError",
     "evalue": "name 'data' is not defined",
     "output_type": "error",
     "traceback": [
      "\u001B[0;31m---------------------------------------------------------------------------\u001B[0m",
      "\u001B[0;31mNameError\u001B[0m                                 Traceback (most recent call last)",
      "\u001B[0;32m<ipython-input-3-15f82d56e973>\u001B[0m in \u001B[0;36m<module>\u001B[0;34m\u001B[0m\n\u001B[0;32m----> 1\u001B[0;31m \u001B[0mR4\u001B[0m \u001B[0;34m=\u001B[0m \u001B[0mdata\u001B[0m\u001B[0;34m[\u001B[0m\u001B[0;34m'arr_0'\u001B[0m\u001B[0;34m]\u001B[0m\u001B[0;34m\u001B[0m\u001B[0;34m\u001B[0m\u001B[0m\n\u001B[0m\u001B[1;32m      2\u001B[0m \u001B[0mR10\u001B[0m \u001B[0;34m=\u001B[0m \u001B[0mdata10\u001B[0m\u001B[0;34m[\u001B[0m\u001B[0;34m'arr_0'\u001B[0m\u001B[0;34m]\u001B[0m\u001B[0;34m\u001B[0m\u001B[0;34m\u001B[0m\u001B[0m\n\u001B[1;32m      3\u001B[0m \u001B[0mR100\u001B[0m \u001B[0;34m=\u001B[0m \u001B[0mdata100\u001B[0m\u001B[0;34m[\u001B[0m\u001B[0;34m'arr_0'\u001B[0m\u001B[0;34m]\u001B[0m\u001B[0;34m\u001B[0m\u001B[0;34m\u001B[0m\u001B[0m\n",
      "\u001B[0;31mNameError\u001B[0m: name 'data' is not defined"
     ]
    }
   ],
   "source": [
    "R4 = data['arr_0']\n",
    "R10 = data10['arr_0']\n",
    "R100 = data100['arr_0']"
   ]
  },
  {
   "cell_type": "code",
   "execution_count": 4,
   "id": "f2335ba3",
   "metadata": {
    "pycharm": {
     "name": "#%%\n"
    }
   },
   "outputs": [
    {
     "ename": "NameError",
     "evalue": "name 'R4' is not defined",
     "output_type": "error",
     "traceback": [
      "\u001B[0;31m---------------------------------------------------------------------------\u001B[0m",
      "\u001B[0;31mNameError\u001B[0m                                 Traceback (most recent call last)",
      "\u001B[0;32m<ipython-input-4-9d29ce78bb73>\u001B[0m in \u001B[0;36m<module>\u001B[0;34m\u001B[0m\n\u001B[0;32m----> 1\u001B[0;31m \u001B[0mprint\u001B[0m\u001B[0;34m(\u001B[0m\u001B[0mR4\u001B[0m\u001B[0;34m[\u001B[0m\u001B[0;36m0\u001B[0m\u001B[0;34m]\u001B[0m\u001B[0;34m)\u001B[0m\u001B[0;34m\u001B[0m\u001B[0;34m\u001B[0m\u001B[0m\n\u001B[0m\u001B[1;32m      2\u001B[0m \u001B[0mprint\u001B[0m\u001B[0;34m(\u001B[0m\u001B[0mR10\u001B[0m\u001B[0;34m[\u001B[0m\u001B[0;36m0\u001B[0m\u001B[0;34m]\u001B[0m\u001B[0;34m)\u001B[0m\u001B[0;34m\u001B[0m\u001B[0;34m\u001B[0m\u001B[0m\n\u001B[1;32m      3\u001B[0m \u001B[0mprint\u001B[0m\u001B[0;34m(\u001B[0m\u001B[0mR100\u001B[0m\u001B[0;34m[\u001B[0m\u001B[0;36m0\u001B[0m\u001B[0;34m]\u001B[0m\u001B[0;34m)\u001B[0m\u001B[0;34m\u001B[0m\u001B[0;34m\u001B[0m\u001B[0m\n",
      "\u001B[0;31mNameError\u001B[0m: name 'R4' is not defined"
     ]
    }
   ],
   "source": [
    "print(R4[0])\n",
    "print(R10[0])\n",
    "print(R100[0])"
   ]
  },
  {
   "cell_type": "code",
   "execution_count": 49,
   "id": "a9589df1",
   "metadata": {
    "pycharm": {
     "name": "#%%\n"
    }
   },
   "outputs": [
    {
     "data": {
      "text/plain": [
       "9.0"
      ]
     },
     "execution_count": 49,
     "metadata": {},
     "output_type": "execute_result"
    }
   ],
   "source": [
    "R4[0,1]"
   ]
  },
  {
   "cell_type": "markdown",
   "id": "22f4d177",
   "metadata": {
    "pycharm": {
     "name": "#%% md\n"
    }
   },
   "source": [
    "# 4 arms evaluated 20 "
   ]
  },
  {
   "cell_type": "markdown",
   "id": "bf40cfd1",
   "metadata": {
    "pycharm": {
     "name": "#%% md\n"
    }
   },
   "source": [
    "## epsilon greedy bandit"
   ]
  },
  {
   "cell_type": "code",
   "execution_count": null,
   "id": "822d7129",
   "metadata": {
    "pycharm": {
     "name": "#%%\n"
    }
   },
   "outputs": [],
   "source": [
    "def EpsilonGreedy()"
   ]
  },
  {
   "cell_type": "code",
   "execution_count": 33,
   "id": "ed4e98ff",
   "metadata": {
    "pycharm": {
     "name": "#%%\n"
    }
   },
   "outputs": [],
   "source": [
    "class EpsilonGreedy():\n",
    "    def __init__(self, epsilon, counts, values):\n",
    "        self.epsilon = epsilon\n",
    "        self.counts = counts # Count represent counts of pulls for each arm. For multiple arms, this will be a list of counts.\n",
    "        self.values = values # Value represent average reward for specific arm. For multiple arms, this will be a list of values.\n",
    "        return \n",
    "    \n",
    "    # Initialise k number of arms\n",
    "    def initialize(self, n_arms):\n",
    "        self.counts = [0 for col in range(n_arms)]\n",
    "        self.values = [0.0 for col in range(n_arms)]\n",
    "        return\n",
    "    \n",
    "    # Epsilon greedy arm selection\n",
    "    def select_arm(self):\n",
    "        # If prob is not in epsilon, do exploitation of best arm so far\n",
    "        if random.random() > self.epsilon:\n",
    "            return np.argmax(self.values)\n",
    "        # If prob falls in epsilon range, do exploration\n",
    "        else:\n",
    "            return random.randrange(len(self.values))\n",
    "    \n",
    "    # Choose to update chosen arm and reward\n",
    "    def update(self, chosen_arm, reward):\n",
    "        # update counts pulled for chosen arm\n",
    "        self.counts[chosen_arm] = self.counts[chosen_arm] + 1\n",
    "        n = self.counts[chosen_arm]\n",
    "        \n",
    "        # Update average/mean value/reward for chosen arm\n",
    "        value = self.values[chosen_arm]\n",
    "        new_value = ((n-1)/float(n)) * value + (1 / float(n)) * reward\n",
    "        self.values[chosen_arm] = new_value\n",
    "        return"
   ]
  },
  {
   "cell_type": "code",
   "execution_count": null,
   "id": "233320b4",
   "metadata": {
    "pycharm": {
     "name": "#%%\n"
    }
   },
   "outputs": [],
   "source": [
    "nb_try = 1000\n",
    "algo = EpsilonGreedy(0.5, [], [])"
   ]
  },
  {
   "cell_type": "code",
   "execution_count": 44,
   "id": "9eab0cdc",
   "metadata": {
    "pycharm": {
     "name": "#%%\n"
    }
   },
   "outputs": [
    {
     "data": {
      "text/plain": [
       "1"
      ]
     },
     "execution_count": 44,
     "metadata": {},
     "output_type": "execute_result"
    }
   ],
   "source": [
    "r = np.random.rand()\n",
    "r\n",
    "a = np.random.randint(1,4)\n",
    "a"
   ]
  },
  {
   "cell_type": "code",
   "execution_count": 41,
   "id": "7edc504d",
   "metadata": {
    "pycharm": {
     "name": "#%%\n"
    }
   },
   "outputs": [
    {
     "data": {
      "text/plain": [
       "[1, 0, 0, 0]"
      ]
     },
     "execution_count": 41,
     "metadata": {},
     "output_type": "execute_result"
    }
   ],
   "source": [
    "Q = [0,0,0,0]\n",
    "a = np.argmax(Q)\n",
    "Q[0] = 1\n",
    "Q"
   ]
  },
  {
   "cell_type": "code",
   "execution_count": 76,
   "id": "557f5f70",
   "metadata": {
    "pycharm": {
     "name": "#%%\n"
    }
   },
   "outputs": [],
   "source": [
    "def EpsilonGreedy(epsilon,r, Q, N, R, nrow, ncol):\n",
    "\n",
    "    \n",
    "\n",
    "    for t in range(nrow): \n",
    "        if r < (1 - epsilon):\n",
    "            a = np.argmax(Q[i])\n",
    "            N[a] += 1\n",
    "            Q[a] += (1/N[a])*(R[t,a] - Q[a])\n",
    "        else: \n",
    "            a = np.random.randint(nrow)\n",
    "            N[a] += 1\n",
    "            Q[a] += (1/N[a])*(R[t,a] - Q[a])\n",
    "    return Q"
   ]
  },
  {
   "cell_type": "code",
   "execution_count": 83,
   "id": "9e4a4cd8",
   "metadata": {
    "pycharm": {
     "name": "#%%\n"
    }
   },
   "outputs": [],
   "source": [
    "ncol = 4\n",
    "nrow = 10\n",
    "Q = np.zeros(ncol)\n",
    "N = np.zeros(ncol)\n",
    "epsilon = 0.5\n",
    "r = np.random.rand()\n",
    "result = EpsilonGreedy(epsilon,r, Q,N,R4,nrow, ncol)"
   ]
  },
  {
   "cell_type": "code",
   "execution_count": 84,
   "id": "bbd4ad78",
   "metadata": {
    "pycharm": {
     "name": "#%%\n"
    }
   },
   "outputs": [
    {
     "data": {
      "text/plain": [
       "array([9.3, 0. , 0. , 0. ])"
      ]
     },
     "execution_count": 84,
     "metadata": {},
     "output_type": "execute_result"
    }
   ],
   "source": [
    "result"
   ]
  },
  {
   "cell_type": "markdown",
   "id": "92d35fdb",
   "metadata": {
    "pycharm": {
     "name": "#%% md\n"
    }
   },
   "source": [
    "## optimistic value bandit"
   ]
  },
  {
   "cell_type": "markdown",
   "id": "4b133737",
   "metadata": {
    "pycharm": {
     "name": "#%% md\n"
    }
   },
   "source": [
    "## UCB"
   ]
  },
  {
   "cell_type": "markdown",
   "id": "3b67f6b1",
   "metadata": {
    "pycharm": {
     "name": "#%% md\n"
    }
   },
   "source": [
    "# 10 arms evaluated 500"
   ]
  },
  {
   "cell_type": "markdown",
   "id": "39e506b1",
   "metadata": {
    "pycharm": {
     "name": "#%% md\n"
    }
   },
   "source": [
    "# 100 arms evaluated 5000 "
   ]
  },
  {
   "cell_type": "code",
   "execution_count": null,
   "id": "da561b3f",
   "metadata": {
    "pycharm": {
     "name": "#%%\n"
    }
   },
   "outputs": [],
   "source": []
  }
 ],
 "metadata": {
  "kernelspec": {
   "display_name": "Python 3 (ipykernel)",
   "language": "python",
   "name": "python3"
  },
  "language_info": {
   "codemirror_mode": {
    "name": "ipython",
    "version": 3
   },
   "file_extension": ".py",
   "mimetype": "text/x-python",
   "name": "python",
   "nbconvert_exporter": "python",
   "pygments_lexer": "ipython3",
   "version": "3.8.10"
  }
 },
 "nbformat": 4,
 "nbformat_minor": 5
}