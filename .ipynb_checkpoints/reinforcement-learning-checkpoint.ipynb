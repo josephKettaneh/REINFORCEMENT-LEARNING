{
 "cells": [
  {
   "cell_type": "markdown",
   "id": "cc664e7c",
   "metadata": {
    "pycharm": {
     "name": "#%% md\n"
    }
   },
   "source": [
    "## Epsilon greedy + optimistic value(epsilon =0 ) + UCB"
   ]
  },
  {
   "cell_type": "code",
   "execution_count": 1,
   "id": "b48d18b3",
   "metadata": {
    "pycharm": {
     "name": "#%%\n"
    }
   },
   "outputs": [
    {
     "name": "stdout",
     "output_type": "stream",
     "text": [
      "8.0\n"
     ]
    }
   ],
   "source": [
    "import numpy as np\n",
    "R = np.load('bandits10_500.npz')['arr_0']\n",
    "print(R[0,1])"
   ]
  },
  {
   "cell_type": "code",
   "execution_count": 2,
   "id": "e8be62fb",
   "metadata": {
    "pycharm": {
     "name": "#%%\n"
    }
   },
   "outputs": [],
   "source": [
    "# Choose epsilon; # exploration probability\n",
    "# Choose n; # number of iterations\n",
    "# for i = 1 to n do:\n",
    "#   prob = pick a random number from 0 to 1\n",
    "#   if p < epsilon:\n",
    "#        current_bandit = pick bandit at random  # explore\n",
    "#   else:\n",
    "#        current_bandit = pick best bandit so far  # exploit\n",
    "#   reward = current_bandit.pull_arm()\n",
    "#\n",
    "#   Update estimation for what rewards the current bandit gives"
   ]
  },
  {
   "cell_type": "code",
   "execution_count": 5,
   "id": "a2c3f26e",
   "metadata": {
    "pycharm": {
     "name": "#%%\n"
    }
   },
   "outputs": [],
   "source": [
    "def epsilon_greedy1(eps, Q, N, k,R):\n",
    "    \n",
    "    for i in range(20) :\n",
    "        \n",
    "        prob = np.random.rand()\n",
    "        \n",
    "        if prob < (1 - eps) :\n",
    "            index = np.argmax(Q)\n",
    "            A = R[i,index]\n",
    "            N[index]+=1\n",
    "            Q[index]+=(1/N[index])*(A-Q[index])\n",
    "            print(Q)\n",
    "        else :\n",
    "            index = np.random.randint(4)\n",
    "            A = R[i][index]\n",
    "            N[index]+=1\n",
    "            Q[index]+=(1/N[index])*(A-Q[index])\n",
    "        \n",
    "    return Q, N\n"
   ]
  },
  {
   "cell_type": "code",
   "execution_count": 14,
   "id": "9d528f8a",
   "metadata": {},
   "outputs": [],
   "source": [
    "def action_method(eps, Q, N,R, k_times, n_arms ,action):\n",
    "    \n",
    "    \n",
    "    if(action == \"optimistic\" or action == \"epsilon_greedy\" ):\n",
    "        if(action == \"optimistic\"):\n",
    "            eps = 0\n",
    "        \n",
    "        for i in range(k_times):\n",
    "\n",
    "            prob = np.random.rand()\n",
    "\n",
    "            if prob < (1 - eps):\n",
    "                a = np.argmax(Q)\n",
    "                N[a]+=1\n",
    "                Q[a]+=(1/N[a])*(R[i,a]-Q[a])\n",
    "            else:\n",
    "\n",
    "                a = np.random.randint(n_arms)\n",
    "                N[a]+=1\n",
    "                Q[a]+=(1/N[a])*(R[i,a]-Q[a])\n",
    "                \n",
    "    else:\n",
    "        for i in range(k_times) :\n",
    "            a = np.argmax(Q +C*np.sqrt(np.log(k_times)/N))\n",
    "            A = R[i,a]\n",
    "            N[a]+=1\n",
    "            Q[a]+= 1/N[a]*(A-Q[a])\n",
    "        \n",
    "        \n",
    "    return Q, N"
   ]
  },
  {
   "cell_type": "markdown",
   "id": "c610e00f",
   "metadata": {
    "pycharm": {
     "name": "#%%\n"
    }
   },
   "source": [
    "## Epsilon-greedy"
   ]
  },
  {
   "cell_type": "code",
   "execution_count": 33,
   "id": "2f142a8e",
   "metadata": {
    "pycharm": {
     "name": "#%%\n"
    }
   },
   "outputs": [
    {
     "name": "stdout",
     "output_type": "stream",
     "text": [
      "[10.25       10.44444444  5.75        8.        ]\n",
      "[4. 9. 4. 3.]\n"
     ]
    }
   ],
   "source": [
    "k_times = 20\n",
    "n_arms = 4\n",
    "eps = 0.5\n",
    "Q = np.zeros(n_arms)\n",
    "N = np.zeros(n_arms)\n",
    "\n",
    "action = \"epsilon_greedy\"\n",
    "\n",
    "Q, N = action_method(eps, Q, N, R, k_times, n_arms, action)\n",
    "print(Q)\n",
    "print(N)"
   ]
  },
  {
   "cell_type": "markdown",
   "id": "3265a18a",
   "metadata": {},
   "source": [
    "## Optimistic Initial Values"
   ]
  },
  {
   "cell_type": "code",
   "execution_count": 16,
   "id": "fc8b1e44",
   "metadata": {
    "pycharm": {
     "name": "#%%\n"
    }
   },
   "outputs": [
    {
     "name": "stdout",
     "output_type": "stream",
     "text": [
      "[1 2 2 4]\n",
      "[ 0.  0.  0. 20.]\n"
     ]
    }
   ],
   "source": [
    "k_times = 20\n",
    "n_arms = 4\n",
    "eps = 0\n",
    "\n",
    "Q = np.array([1,2,2,4])\n",
    "N = np.zeros(4)\n",
    "action = \"optimistic\"\n",
    "\n",
    "Q, N = action_method(eps, Q, N, R, k_times, n_arms, action)\n",
    "print(Q)\n",
    "print(N)"
   ]
  },
  {
   "cell_type": "markdown",
   "id": "d5a72b3e",
   "metadata": {},
   "source": [
    "## UCB"
   ]
  },
  {
   "cell_type": "code",
   "execution_count": 7,
   "id": "ae979978",
   "metadata": {},
   "outputs": [
    {
     "name": "stdout",
     "output_type": "stream",
     "text": [
      "[8.77777778 8.55555556 3.         6.        ]\n",
      "[9. 9. 1. 1.]\n"
     ]
    },
    {
     "name": "stderr",
     "output_type": "stream",
     "text": [
      "<ipython-input-4-4fce4e8cbde1>:24: RuntimeWarning: divide by zero encountered in true_divide\n",
      "  a = np.argmax(Q +C*np.sqrt(np.log(k)/N))\n"
     ]
    }
   ],
   "source": [
    "k_times = 20\n",
    "n_arms = 4\n",
    "Q = np.zeros(n_arms)\n",
    "N = np.zeros(n_arms)\n",
    "C = 2\n",
    "\n",
    "action = \"UCB\"\n",
    "\n",
    "Q, N = action_method(eps, Q, N, R, k_times, n_arms, action)\n",
    "print(Q)\n",
    "print(N)"
   ]
  },
  {
   "cell_type": "code",
   "execution_count": null,
   "id": "49b9cf84",
   "metadata": {},
   "outputs": [],
   "source": [
    "# interrogateBandit"
   ]
  },
  {
   "cell_type": "code",
   "execution_count": null,
   "id": "ab44b698",
   "metadata": {},
   "outputs": [],
   "source": []
  },
  {
   "cell_type": "code",
   "execution_count": null,
   "id": "f52b8d00",
   "metadata": {},
   "outputs": [],
   "source": []
  }
 ],
 "metadata": {
  "kernelspec": {
   "display_name": "Python 3",
   "language": "python",
   "name": "python3"
  },
  "language_info": {
   "codemirror_mode": {
    "name": "ipython",
    "version": 3
   },
   "file_extension": ".py",
   "mimetype": "text/x-python",
   "name": "python",
   "nbconvert_exporter": "python",
   "pygments_lexer": "ipython3",
   "version": "3.8.8"
  }
 },
 "nbformat": 4,
 "nbformat_minor": 5
}
