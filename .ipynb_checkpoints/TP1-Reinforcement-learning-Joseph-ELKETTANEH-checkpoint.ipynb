{
 "cells": [
  {
   "cell_type": "markdown",
   "id": "b43b91ee",
   "metadata": {},
   "source": [
    "## Joseph Kettaneh - M2SD\n",
    "\n",
    "# TP1: Multi-armed bandits"
   ]
  },
  {
   "cell_type": "markdown",
   "id": "28ab0aa2",
   "metadata": {},
   "source": [
    "In reinforcement learning, the value of selectable actions is evaluated rather than instructing the correct action through learning information. This is the most important characteristic that distinguishes reinforcement learning from other types of learning. In this TP, we will look at a special reinforcement learning problem, called the k-armed bandit problem, that selects one of k independent actions in only one state."
   ]
  },
  {
   "cell_type": "markdown",
   "id": "1fdbce2d",
   "metadata": {},
   "source": [
    "## An n-Armed Bandit Problem\n",
    "Consider the following learning problem. You are faced repeatedly with a choice among n different options, or actions. After each choice you receive a numerical reward chosen from a stationary probability distribution that depends on the action you selected. Your objective is to maximize the expected total reward over some time period, for example, over 1000 action selections, or time steps.\n",
    "\n",
    "In the n-armed bandit problem defined above, the expected value of the reward when an action is selected at time t is called the **value** for that action and can be expressed as follows.\n",
    "$$q_*(a) = E[R_t \\phantom{1} | \\phantom{1} A_t = a ],$$\n",
    "* $R_t$: Reward on time step t,\n",
    "* $A_t$: Action on time step t"
   ]
  },
  {
   "cell_type": "markdown",
   "id": "c9c1a951",
   "metadata": {},
   "source": [
    "For a estimation function $Q_t(a)$ for the action value, there will be at least one action with the highest estimated value at every time step. We call these actions **greedy actions**. Also, selecting one of these greedy actions is called **exploiting**. One thing to note is that the $Q_t(a)$ function we refer to is an empirical estimate. Therefore, sometimes one of the nongreedy actions needs to be selected to increase the confidence in $Q_t(a)$. We call this **exploring**.\n",
    "In reinforcement learning, exploitation and exploration correspond to a trade-off relationship. If you do a lot of exploration, the total amount of rewards you will receive in the short term will be smaller, but the possibility of finding good greedy actions in the long term increases. On the other hand, if you do a lot of exploiting, the amount of rewards you receive right away can be relatively high, but in the long run, it becomes difficult to be sure whether the current greedy actions are objectively good actions. In this chapter, we will look at various methods to achieve a good balance between exploitation and exploration through the k-armed bandit problem. This topic is also a central issue in reinforcement learning."
   ]
  },
  {
   "cell_type": "markdown",
   "id": "46b59eb9",
   "metadata": {},
   "source": [
    "## Action-value Methods\n",
    "Let's take a look at a very simple method of estimating an action-value. A natural approach would be to average the accumulated reward of the selected action. Expressing this as a formula is as follows.\n",
    "$$Q_t(a) = \\frac{\\text{sum of rewards when a taken prior to t}}{\\text{number of times a taken prior to t}} = \\frac{\\Sigma_{i=1}^ {t-1} R_i \\cdot \\mathbb{1}_{A_i = a}}{\\Sigma_{i=1}^{t-1} \\mathbb{1}_{A_i = a}},$$\n",
    "\n",
    "* $\\mathbb{1}_{predicate}$: Returns 1 if predicate is true, and 0 if false.\n",
    "* If the denominator is 0, $Q_t(a)$ is defined as an arbitrary constant value. (e.g. 0)\n",
    "\n",
    "\n",
    "### 1. $\\epsilon$-greedy method\n",
    "\n",
    "\n",
    "If the denominator of the above formula diverges to infinity, $Q_t(a)$ will converge to $q_*(a)$. We call this method the **sample-average method**. Then, how can this estimation function be used for action selection? The simplest action selection method is to select the highest estimated value. This is called **greedy action selection**.\n",
    "$$A_t = argmax_a Q_t(a),$$\n",
    "\n",
    "* $argmax_a Q_t(a)$ function returns action $a$ that maximizes $Q_t(a)$.\n",
    "\n",
    "Always doing greedy action selection is the same as always exploiting. In other words, if this method is maintained, it may be possible to insist on only a specific action before the estimation of the value of all actions shows any degree of objectivity. That is why sometimes it is necessary to choose non-greedy action through exploring. The idea of ​​choosing a greedy action in most cases and sometimes a non-greedy action is the **$\\epsilon$-greedy method**. Through this method, greedy action selection is performed with a probability of $1 - \\epsilon$ at every time step, and non-greedy action selection is performed with a probability of $\\epsilon$. If infinitely many action selections are made with the $\\epsilon$-greedy method, eventually $Q_t(a)$ for all actions $a$ will converge to $q_*(a)$, and the probability that the optimal action will be selected is $1 -\\epsilon$. The code is implemented below\n",
    "\n",
    "\n",
    "````c\n",
    "for i in range(k_times):\n",
    "\n",
    "    prob = np.random.rand()\n",
    "\n",
    "    if prob < (1 - eps):\n",
    "        A = np.argmax(Q)\n",
    "        N[A]+=1\n",
    "        Q[A]+=(1/N[A])*(R[i,A]-Q[A])\n",
    "    else:\n",
    "\n",
    "        A = np.random.randint(n_arms)\n",
    "        N[A]+=1\n",
    "        Q[A]+=(1/N[A])*(R[i,A]-Q[A])\n",
    "````"
   ]
  },
  {
   "cell_type": "markdown",
   "id": "15909076",
   "metadata": {},
   "source": [
    "### 2. Optimistic Initial Values\n",
    "\n",
    "this approach will likely work well for stationary problems, but will not work well for non-stationary problems. Optimistic initial value means focusing on the initial condition of a problem, because in a non-stationary problem, the state can change over time.\n",
    "\n",
    "Through the experiment below, we will initialise  $Q != 0$, $\\epsilon = 0$ with the same algorithm as $\\epsilon-greedy$"
   ]
  },
  {
   "cell_type": "markdown",
   "id": "5dd7a849",
   "metadata": {},
   "source": [
    "### 3 Upper-Confidence-Bound Action Selection\n",
    "\n",
    "Since the accuracy of the action value estimate always involves uncertainty, the importance of exploration is inevitable. In this section, we will look at the exploration method different from the $\\epsilon$-greedy method.\n",
    "\n",
    "$\\epsilon$-greedy action selection is exploring by selecting non-greedy actions with a certain probability. However, in the process, it does not even consider which action is close to a greedy action or which action has higher uncertainty. Upper-confidence-bound action selection (UCB), which will be introduced in this section, compensates for this weakness by considering the uncertainty along with the current estimate in selecting a non-greedy action.\n",
    "\n",
    "$$A_t = argmax_a \\big[ Q_t(a) + c \\sqrt{\\frac{log_e t}{N_t (a)}} \\big],$$\n",
    "\n",
    "* $log_e t$ is the natural logarithm of t.\n",
    "* $N_t(a)$ is the number of times action a was selected before time t. When $N_t(a) = 0$, the choice of a is considered as the top priority.\n",
    "* c corresponds to a hyperparameter that controls the degree of exploration. ( $c > 0$ )\n",
    "\n",
    "UCB can be seen as a shape with a square-root term attached to the measurement of the uncertainty in estimating the action value. Simply put, if the numerator of $\\frac{log_e t}{N_t (a)}$ is larger than the denominator, it means that the uncertainty is high, and if the denominator is larger than the numerator, it means that the certainty is high. The point to note here is that all actions are eventually selected because the natural log function is a function that diverges in the positive direction, and since the increase decreases over time, if the estimate for the action value is low, the frequency of selection gradually decreases. that it will decrease This is equivalent to considering that actions with low estimates are more likely not to be optimal actions over a long period of time.\n",
    "\n",
    "Although UCB has good performance depending on the situation, it has the disadvantage that it becomes much more difficult to use for more complex reinforcement learning problems (especially non-stationary problems) than the bandit problem.\n",
    "\n",
    "````c\n",
    "for i in range(k_times) :\n",
    "    A = np.argmax(Q +C*np.sqrt(np.log(k_times)/N))\n",
    "    R_ = R[i,A]\n",
    "    N[A]+=1\n",
    "    Q[A]+= 1/N[A]*(R_-Q[A])\n",
    "````"
   ]
  },
  {
   "cell_type": "markdown",
   "id": "e230317f",
   "metadata": {},
   "source": [
    "## Code Implementation and Testing "
   ]
  },
  {
   "cell_type": "markdown",
   "id": "b9a6d398",
   "metadata": {},
   "source": [
    "## Case 1 : 4 bras, 20 pas de temps"
   ]
  },
  {
   "cell_type": "code",
   "execution_count": 1,
   "id": "75ff5ca5",
   "metadata": {
    "scrolled": false
   },
   "outputs": [
    {
     "name": "stdout",
     "output_type": "stream",
     "text": [
      "file  bandits4_20.npz  of shape  (20, 4)  is Loaded!!\n",
      "[[ 8.  9. 11.  7.]\n",
      " [ 7. 10.  8.  5.]\n",
      " [ 9.  7.  3.  4.]\n",
      " [ 5.  8.  9.  6.]\n",
      " [ 9. 10.  9.  5.]\n",
      " [14.  7. 12.  4.]\n",
      " [11.  6. 11.  4.]\n",
      " [12.  5.  9.  5.]\n",
      " [ 9. 12.  7.  6.]\n",
      " [ 9.  8. 11.  7.]\n",
      " [ 8.  5. 13.  7.]\n",
      " [ 8. 12. 11.  5.]\n",
      " [10.  6. 14.  5.]\n",
      " [11.  9. 10.  7.]\n",
      " [ 7.  9. 11.  7.]\n",
      " [ 4.  6. 11.  7.]\n",
      " [ 8. 12.  9.  7.]\n",
      " [11.  5. 11.  2.]\n",
      " [ 8.  9. 13.  6.]\n",
      " [13.  6. 11.  7.]]\n"
     ]
    },
    {
     "data": {
      "image/png": "[encoded data removed]",
      "text/plain": [
       "<Figure size 900x504 with 1 Axes>"
      ]
     },
     "metadata": {
      "needs_background": "light"
     },
     "output_type": "display_data"
    }
   ],
   "source": [
    "import numpy as np\n",
    "import matplotlib.pyplot as plt\n",
    "import actionMethods as am\n",
    "import seaborn as sns\n",
    "import kbandit as kb\n",
    "from kbandit import KBandit\n",
    "\n",
    "file_name = 'bandits4_20.npz'\n",
    "R = np.load(file_name)['arr_0']\n",
    "\n",
    "if R is not None :\n",
    "    print(\"file \", file_name, \" of shape \",R.shape,\" is Loaded!!\")\n",
    "    print(R)\n",
    "    plt.figure(figsize=(12.5, 7))\n",
    "    plt.violinplot(dataset=R, showmeans=True)\n",
    "    plt.xlabel(\"Action\")\n",
    "    plt.ylabel(\"Reward Distribution\")\n"
   ]
  },
  {
   "cell_type": "markdown",
   "id": "2d900ddf",
   "metadata": {},
   "source": [
    "      Here i am using violinplot to plot the distribution, which is estimated using the sample points. We can obviously see that if 3rd action the Reward is the maximnum. So let's see if this is translated in our action methods.\n",
    "    With this test problem, we can now examine different action-value methods, which estimate value functions and use this estimates to take subsequent actions, seeking to maximize the long-term reward.\n",
    "    \n",
    "    So the expectation q* should be on the 3rd action with a reward value 10<q*<12\n",
    "\n"
   ]
  },
  {
   "cell_type": "markdown",
   "id": "82809551",
   "metadata": {},
   "source": [
    "   ### 1.1 $\\epsilon-greedy$ method"
   ]
  },
  {
   "cell_type": "code",
   "execution_count": 99,
   "id": "39f9a30e",
   "metadata": {},
   "outputs": [
    {
     "name": "stdout",
     "output_type": "stream",
     "text": [
      "Rewards:  [ 8.875       8.25       11.2         5.66666667]\n",
      "Number of times an action has been taken:  [8. 4. 5. 3.]\n"
     ]
    }
   ],
   "source": [
    "k_times = 20\n",
    "n_arms = 4\n",
    "eps = 0.5\n",
    "Q = np.zeros(n_arms)\n",
    "N = np.zeros(n_arms)\n",
    "\n",
    "action = \"epsilon_greedy\"\n",
    "\n",
    "Q, N = am.action_method(eps, Q, N, R, 0, k_times, n_arms, action)\n",
    "print(\"Rewards: \", Q)\n",
    "print(\"Number of times an action has been taken: \", N)"
   ]
  },
  {
   "cell_type": "markdown",
   "id": "47f0b631",
   "metadata": {},
   "source": [
    "    So We find with a epsilon= 0.5, the maximum reward is of 11.2 on the 3rd action wich is repeated 9 times, so here we choose the action 3 to be the optimal one.\n",
    "    \n",
    "    Q tends to -> q*"
   ]
  },
  {
   "cell_type": "markdown",
   "id": "cdb52835",
   "metadata": {},
   "source": [
    "### 1.2 Optimistic Initial Values"
   ]
  },
  {
   "cell_type": "code",
   "execution_count": 84,
   "id": "70ed66eb",
   "metadata": {},
   "outputs": [
    {
     "name": "stdout",
     "output_type": "stream",
     "text": [
      "Rewards:  [6 7 8 1]\n",
      "Number of times an action has been taken:  [ 0. 14.  6.  0.]\n"
     ]
    }
   ],
   "source": [
    "k_times = 20\n",
    "n_arms = 4\n",
    "eps = 0\n",
    "\n",
    "Q = np.random.randint(10, size=(4))\n",
    "N = np.zeros(4)\n",
    "action = \"optimistic\"\n",
    "\n",
    "Q, N = am.action_method(eps, Q, N, R, 0, k_times, n_arms, action)\n",
    "print(\"Rewards: \", Q)\n",
    "print(\"Number of times an action has been taken: \", N)"
   ]
  },
  {
   "cell_type": "markdown",
   "id": "4ebc37d4",
   "metadata": {},
   "source": [
    "    So We find with a epsilon= 0, and Q of random integers the maximum reward is of 8 on the 3rd action which is repeated 6 times (The same action 6 times), so here we choose the action 3 to be the optimal one."
   ]
  },
  {
   "cell_type": "markdown",
   "id": "2ca67b06",
   "metadata": {},
   "source": [
    "### 1.3 UCB - Upper Confidence Bound "
   ]
  },
  {
   "cell_type": "code",
   "execution_count": 7,
   "id": "6d332400",
   "metadata": {},
   "outputs": [
    {
     "name": "stdout",
     "output_type": "stream",
     "text": [
      "Rewards:  [8.77777778 8.55555556 3.         6.        ]\n",
      "Number of times an action has been taken:  [9. 9. 1. 1.]\n"
     ]
    }
   ],
   "source": [
    "k_times = 20\n",
    "n_arms = 4\n",
    "Q = np.zeros(n_arms)\n",
    "N = np.zeros(n_arms)\n",
    "C = 2\n",
    "eps = 0\n",
    "action = \"UCB\"\n",
    "\n",
    "Q, N = am.action_method(eps, Q, N, R, C, k_times, n_arms, action)\n",
    "print(\"Rewards: \", Q)\n",
    "print(\"Number of times an action has been taken: \", N)"
   ]
  },
  {
   "cell_type": "markdown",
   "id": "0ff7d6ef",
   "metadata": {},
   "source": [
    "    So We find with a C = 2, and Q = 0 the maximum reward is of 8.777 on the 1st action wich is repeated 9 times, so here we choose the action 1 to be the optimal one."
   ]
  },
  {
   "cell_type": "markdown",
   "id": "712c5a9f",
   "metadata": {},
   "source": [
    "## Case 2 : 10 bras, 500 pas de temps"
   ]
  },
  {
   "cell_type": "code",
   "execution_count": 94,
   "id": "3d264725",
   "metadata": {},
   "outputs": [
    {
     "name": "stdout",
     "output_type": "stream",
     "text": [
      "file  bandits10_500.npz  of shape  (500, 10)  is Loaded!!\n",
      "[[ 6.  8.  5. ... 10. 12.  9.]\n",
      " [10. 14.  7. ... 10.  6.  7.]\n",
      " [ 7. 10.  7. ... 12.  7. 12.]\n",
      " ...\n",
      " [ 6. 10.  4. ...  9.  8. 16.]\n",
      " [ 9.  7.  7. ... 15.  7. 10.]\n",
      " [ 7. 14.  4. ...  8.  9.  8.]]\n"
     ]
    },
    {
     "data": {
      "image/png": "[encoded data removed]",
      "text/plain": [
       "<Figure size 900x504 with 1 Axes>"
      ]
     },
     "metadata": {
      "needs_background": "light"
     },
     "output_type": "display_data"
    }
   ],
   "source": [
    "file_name = 'bandits10_500.npz'\n",
    "R = np.load(file_name)['arr_0']\n",
    "\n",
    "if R is not None :\n",
    "    print(\"file \", file_name, \" of shape \",R.shape,\" is Loaded!!\")\n",
    "    print(R)\n",
    "    plt.figure(figsize=(12.5, 7))\n",
    "    plt.violinplot(dataset=R, showmeans=True)\n",
    "    plt.xlabel(\"Action\")\n",
    "    plt.ylabel(\"Reward Distribution\")"
   ]
  },
  {
   "cell_type": "markdown",
   "id": "b96cd0e8",
   "metadata": {},
   "source": [
    "      Here i am using violinplot to plot the distribution, which is estimated using the sample points. We can  see that on the 8th action the Reward is the maximnum. So let's see if this is translated in our action methods.\n",
    "    With this test problem, we can now examine different action-value methods, which estimate value functions and use this estimates to take subsequent actions, seeking to maximize the long-term reward.\n",
    "\n",
    "    So the expectation q* should be on the 8th action with a reward value 11.5<q*<12.5\n"
   ]
  },
  {
   "cell_type": "markdown",
   "id": "82cbbb87",
   "metadata": {},
   "source": [
    "   ### 2.1 $\\epsilon-greedy$ method"
   ]
  },
  {
   "cell_type": "code",
   "execution_count": 105,
   "id": "c631ada0",
   "metadata": {},
   "outputs": [
    {
     "name": "stdout",
     "output_type": "stream",
     "text": [
      "Rewards:  [ 9.26923077 10.67857143  6.32142857  6.68965517 10.91304348  6.9047619\n",
      " 10.77272727 11.89494163  8.16666667  9.96153846]\n",
      "Number of times an action has been taken:  [ 26.  28.  28.  29.  23.  21.  44. 257.  18.  26.]\n",
      "\n",
      "\n",
      "Rewards Maximum=  11.894941634241253\n",
      "Number of times the action has been taken:  [257.]\n"
     ]
    }
   ],
   "source": [
    "k_times = 500\n",
    "n_arms = 10\n",
    "eps = 0.5\n",
    "Q = np.zeros(n_arms)\n",
    "N = np.zeros(n_arms)\n",
    "\n",
    "action = \"epsilon_greedy\"\n",
    "\n",
    "Q, N = am.action_method(eps, Q, N, R, 0, k_times, n_arms, action)\n",
    "print(\"Rewards: \", Q)\n",
    "print(\"Number of times an action has been taken: \", N)\n",
    "\n",
    "Qmax = max(Q)\n",
    "print(\"\\n\\nRewards Maximum= \", Qmax)\n",
    "print(\"Number of times the action has been taken: \", N[np.where(Q == Qmax)])"
   ]
  },
  {
   "cell_type": "markdown",
   "id": "2bafba30",
   "metadata": {},
   "source": [
    "    So We find with a epsilon= 0.5, the maximum reward is of 11.89 on the 8th action wich is repeated 257 times, so here we choose the action 8 to be the optimal one.\n",
    "    \n",
    "    Q tends to -> q*"
   ]
  },
  {
   "cell_type": "markdown",
   "id": "563ebb79",
   "metadata": {},
   "source": [
    "### 2.2 Optimistic Initial Values"
   ]
  },
  {
   "cell_type": "code",
   "execution_count": 118,
   "id": "873873e5",
   "metadata": {},
   "outputs": [
    {
     "name": "stdout",
     "output_type": "stream",
     "text": [
      "Rewards:  [5 1 6 4 6 1 6 7 7 2]\n",
      "Number of times an action has been taken:  [  1.   1.   1.   1.   1.   1. 144. 355.   4.   1.]\n",
      "\n",
      "\n",
      "Rewards Maximum=  7\n",
      "Number of times the action has been taken:  [355.   4.]\n"
     ]
    }
   ],
   "source": [
    "k_times = 500\n",
    "n_arms = 10\n",
    "eps = 0\n",
    "\n",
    "Q = np.random.randint(10, size=(10))\n",
    "N = np.ones(10)\n",
    "action = \"optimistic\"\n",
    "\n",
    "Q, N = am.action_method(eps, Q, N, R, 0, k_times, n_arms, action)\n",
    "print(\"Rewards: \", Q)\n",
    "print(\"Number of times an action has been taken: \", N)\n",
    "Qmax = max(Q)\n",
    "print(\"\\n\\nRewards Maximum= \", Qmax)\n",
    "print(\"Number of times the action has been taken: \", N[np.where(Q == Qmax)])"
   ]
  },
  {
   "cell_type": "markdown",
   "id": "e5273316",
   "metadata": {},
   "source": [
    "### 2.3 UCB - Upper Confidence Bound \n"
   ]
  },
  {
   "cell_type": "code",
   "execution_count": 120,
   "id": "34ecc817",
   "metadata": {},
   "outputs": [
    {
     "name": "stdout",
     "output_type": "stream",
     "text": [
      "Rewards:  [ 6.          9.88888889  7.          7.          7.          4.\n",
      " 10.22222222 11.84434968  8.          9.66666667]\n",
      "Number of times an action has been taken:  [  1.   9.   1.   1.   1.   1.   9. 469.   2.   6.]\n",
      "\n",
      "\n",
      "Rewards Maximum=  11.844349680170577\n",
      "Number of times the action has been taken:  [469.]\n"
     ]
    }
   ],
   "source": [
    "k_times = 500\n",
    "n_arms = 10\n",
    "Q = np.zeros(n_arms)\n",
    "N = np.zeros(n_arms)\n",
    "C = 2\n",
    "eps = 0\n",
    "action = \"UCB\"\n",
    "\n",
    "Q, N = am.action_method(eps, Q, N, R, C, k_times, n_arms, action)\n",
    "print(\"Rewards: \", Q)\n",
    "print(\"Number of times an action has been taken: \", N)\n",
    "Qmax = max(Q)\n",
    "print(\"\\n\\nRewards Maximum= \", Qmax)\n",
    "print(\"Number of times the action has been taken: \", N[np.where(Q == Qmax)])"
   ]
  },
  {
   "cell_type": "markdown",
   "id": "499eb08e",
   "metadata": {},
   "source": [
    "    So We find with a C = 2, the maximum reward is of 11.844 on the 8th action wich is repeated 469 times, so here we choose the action 8 to be the optimal one.\n",
    "    \n",
    "    Q tends to -> q*"
   ]
  },
  {
   "cell_type": "markdown",
   "id": "053b68b2",
   "metadata": {},
   "source": [
    "## Case 3 : 100 bras, 5000 pas de temps"
   ]
  },
  {
   "cell_type": "code",
   "execution_count": 123,
   "id": "fac7f9f1",
   "metadata": {},
   "outputs": [
    {
     "name": "stdout",
     "output_type": "stream",
     "text": [
      "file  bandits100_5000.npz  of shape  (5000, 100)  is Loaded!!\n",
      "[[ 8. 13.  9. ... 12.  9. 10.]\n",
      " [14.  8. 10. ... 11. 11.  8.]\n",
      " [14. 17.  8. ...  8. 12. 10.]\n",
      " ...\n",
      " [10.  9.  8. ... 14.  7. 10.]\n",
      " [14.  7.  8. ...  8. 11. 13.]\n",
      " [13. 13. 10. ... 11.  9. 10.]]\n"
     ]
    },
    {
     "data": {
      "image/png": "[encoded data removed]",
      "text/plain": [
       "<Figure size 900x504 with 1 Axes>"
      ]
     },
     "metadata": {
      "needs_background": "light"
     },
     "output_type": "display_data"
    }
   ],
   "source": [
    "file_name = 'bandits100_5000.npz'\n",
    "R = np.load(file_name)['arr_0']\n",
    "\n",
    "if R is not None :\n",
    "    print(\"file \", file_name, \" of shape \",R.shape,\" is Loaded!!\")\n",
    "    print(R)\n",
    "    plt.figure(figsize=(12.5, 7))\n",
    "    plt.violinplot(dataset=R, showmeans=True)\n",
    "    plt.xlabel(\"Action\")\n",
    "    plt.ylabel(\"Reward Distribution\")"
   ]
  },
  {
   "cell_type": "markdown",
   "id": "1a4c75ed",
   "metadata": {},
   "source": [
    "    So the expectation q* should be on the 22nd action with a reward value 15<q*<16"
   ]
  },
  {
   "cell_type": "markdown",
   "id": "c96d7e86",
   "metadata": {},
   "source": [
    "   ### 3.1 $\\epsilon-greedy$ method"
   ]
  },
  {
   "cell_type": "code",
   "execution_count": 136,
   "id": "c49bcec9",
   "metadata": {},
   "outputs": [
    {
     "name": "stdout",
     "output_type": "stream",
     "text": [
      "Rewards Maximum=  15.026457213724656  On the index  (array([21]),) th action\n",
      "Number of times the action has been taken:  [2419.]\n"
     ]
    }
   ],
   "source": [
    "k_times = 5000\n",
    "n_arms = 100\n",
    "eps = 0.5\n",
    "Q = np.zeros(n_arms)\n",
    "N = np.zeros(n_arms)\n",
    "\n",
    "action = \"epsilon_greedy\"\n",
    "\n",
    "Q, N = am.action_method(eps, Q, N, R, 0, k_times, n_arms, action)\n",
    "Qmax = max(Q)\n",
    "print(\"Rewards Maximum= \", Qmax, \" On the index \", np.where(Q == Qmax),\"th action\")\n",
    "print(\"Number of times the action has been taken: \", N[np.where(Q == Qmax)])"
   ]
  },
  {
   "cell_type": "markdown",
   "id": "ae71927a",
   "metadata": {},
   "source": [
    "Q tends to -> q* , Optimal Q as expected on the 22nd Action of value 15.026"
   ]
  },
  {
   "cell_type": "markdown",
   "id": "b4ea8479",
   "metadata": {},
   "source": [
    "### 3.2 Optimistic Initial Values"
   ]
  },
  {
   "cell_type": "code",
   "execution_count": 143,
   "id": "ae1c94a5",
   "metadata": {},
   "outputs": [
    {
     "name": "stdout",
     "output_type": "stream",
     "text": [
      "Rewards Maximum=  8  On the index  (array([21]),) th action\n",
      "Number of times the action has been taken:  [3611.]\n"
     ]
    }
   ],
   "source": [
    "k_times = 5000\n",
    "n_arms = 100\n",
    "eps = 0\n",
    "\n",
    "Q = np.random.randint(10, size=(100))\n",
    "N = np.ones(100)\n",
    "action = \"optimistic\"\n",
    "\n",
    "Q, N = am.action_method(eps, Q, N, R, 0, k_times, n_arms, action)\n",
    "Qmax = max(Q)\n",
    "print(\"Rewards Maximum= \", Qmax, \" On the index \", np.where(Q == Qmax),\"th action\")\n",
    "print(\"Number of times the action has been taken: \", N[np.where(Q == Qmax)])"
   ]
  },
  {
   "cell_type": "markdown",
   "id": "4c986676",
   "metadata": {},
   "source": [
    "Q tends to -> q* , Optimal Q as expected on the 22nd Action of value 8"
   ]
  },
  {
   "cell_type": "markdown",
   "id": "4579b52a",
   "metadata": {},
   "source": [
    "### 3.3 UCB - Upper Confidence Bound "
   ]
  },
  {
   "cell_type": "code",
   "execution_count": 144,
   "id": "58af2eda",
   "metadata": {},
   "outputs": [
    {
     "name": "stdout",
     "output_type": "stream",
     "text": [
      "Rewards Maximum=  14.992725005196428  On the index  (array([21]),) th action\n",
      "Number of times the action has been taken:  [4811.]\n"
     ]
    },
    {
     "name": "stderr",
     "output_type": "stream",
     "text": [
      "/Users/josephkettaneh/Desktop/Master-SID/Year-2/Sem 1/REINFORCEMENT-LEARNING/actionMethods.py:31: RuntimeWarning: divide by zero encountered in true_divide\n",
      "  a = np.argmax(Q +C*np.sqrt(np.log(k_times)/N))\n"
     ]
    }
   ],
   "source": [
    "k_times = 5000\n",
    "n_arms = 100\n",
    "Q = np.zeros(n_arms)\n",
    "N = np.zeros(n_arms)\n",
    "C = 2\n",
    "eps = 0\n",
    "action = \"UCB\"\n",
    "\n",
    "Q, N = am.action_method(eps, Q, N, R, C, k_times, n_arms, action)\n",
    "Qmax = max(Q)\n",
    "print(\"Rewards Maximum= \", Qmax, \" On the index \", np.where(Q == Qmax),\"th action\")\n",
    "print(\"Number of times the action has been taken: \", N[np.where(Q == Qmax)])"
   ]
  },
  {
   "cell_type": "markdown",
   "id": "09e48d05",
   "metadata": {},
   "source": [
    "Q tends to -> q* , Optimal Q as expected on the 22nd Action of value 14.99"
   ]
  }
 ],
 "metadata": {
  "kernelspec": {
   "display_name": "Python 3",
   "language": "python",
   "name": "python3"
  },
  "language_info": {
   "codemirror_mode": {
    "name": "ipython",
    "version": 3
   },
   "file_extension": ".py",
   "mimetype": "text/x-python",
   "name": "python",
   "nbconvert_exporter": "python",
   "pygments_lexer": "ipython3",
   "version": "3.8.8"
  }
 },
 "nbformat": 4,
 "nbformat_minor": 5
}
